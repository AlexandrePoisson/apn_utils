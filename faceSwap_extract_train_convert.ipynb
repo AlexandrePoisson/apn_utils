{
  "nbformat": 4,
  "nbformat_minor": 0,
  "metadata": {
    "colab": {
      "name": "faceSwap_extract_train_convert.ipynb",
      "provenance": [],
      "collapsed_sections": [],
      "include_colab_link": true
    },
    "kernelspec": {
      "name": "python3",
      "display_name": "Python 3"
    },
    "accelerator": "GPU"
  },
  "cells": [
    {
      "cell_type": "markdown",
      "metadata": {
        "id": "view-in-github",
        "colab_type": "text"
      },
      "source": [
        "<a href=\"https://colab.research.google.com/github/AlexandrePoisson/apn_utils/blob/master/faceSwap_extract_train_convert.ipynb\" target=\"_parent\"><img src=\"https://colab.research.google.com/assets/colab-badge.svg\" alt=\"Open In Colab\"/></a>"
      ]
    },
    {
      "cell_type": "markdown",
      "metadata": {
        "id": "Dx5sPa9FeU6B",
        "colab_type": "text"
      },
      "source": [
        "Extracting"
      ]
    },
    {
      "cell_type": "code",
      "metadata": {
        "id": "NHTgdo4MfSzA",
        "colab_type": "code",
        "outputId": "5003b22d-ed9a-4e1f-d3ee-8ede45b027ae",
        "colab": {
          "base_uri": "https://localhost:8080/",
          "height": 120
        }
      },
      "source": [
        "# Exécutez cette cellule pour installer votre Google Drive.\n",
        "from google.colab import drive\n",
        "drive.mount('/content/drive')\n",
        "# you will need to enter an authorization code\n",
        "#import os\n",
        "#path = F\"/content/drive/My Drive\"\n",
        "#os.listdir(path)"
      ],
      "execution_count": 0,
      "outputs": [
        {
          "output_type": "stream",
          "text": [
            "Go to this URL in a browser: https://accounts.google.com/o/oauth2/auth?client_id=947318989803-6bn6qk8qdgf4n4g3pfee6491hc0brc4i.apps.googleusercontent.com&redirect_uri=urn%3Aietf%3Awg%3Aoauth%3A2.0%3Aoob&scope=email%20https%3A%2F%2Fwww.googleapis.com%2Fauth%2Fdocs.test%20https%3A%2F%2Fwww.googleapis.com%2Fauth%2Fdrive%20https%3A%2F%2Fwww.googleapis.com%2Fauth%2Fdrive.photos.readonly%20https%3A%2F%2Fwww.googleapis.com%2Fauth%2Fpeopleapi.readonly&response_type=code\n",
            "\n",
            "Enter your authorization code:\n",
            "··········\n",
            "Mounted at /content/drive\n"
          ],
          "name": "stdout"
        }
      ]
    },
    {
      "cell_type": "code",
      "metadata": {
        "id": "QqIWbN7qfW4_",
        "colab_type": "code",
        "colab": {}
      },
      "source": [
        "from google.colab import drive\n",
        "!git clone https://github.com/alexp4fun/faceswap.git"
      ],
      "execution_count": 0,
      "outputs": []
    },
    {
      "cell_type": "code",
      "metadata": {
        "id": "ZPfpyiBcfenw",
        "colab_type": "code",
        "colab": {}
      },
      "source": [
        "!pip install -r \"faceswap/requirements.txt\""
      ],
      "execution_count": 0,
      "outputs": []
    },
    {
      "cell_type": "markdown",
      "metadata": {
        "id": "BskDwWzSfiht",
        "colab_type": "text"
      },
      "source": [
        "!!! Restart runtime "
      ]
    },
    {
      "cell_type": "code",
      "metadata": {
        "id": "hNKFMlh_fhZv",
        "colab_type": "code",
        "colab": {}
      },
      "source": [
        "!pip install tensorflow-gpu==1.13.1"
      ],
      "execution_count": 0,
      "outputs": []
    },
    {
      "cell_type": "markdown",
      "metadata": {
        "id": "yfL3e0OFeY1y",
        "colab_type": "text"
      },
      "source": [
        "Actual extraction for face A"
      ]
    },
    {
      "cell_type": "code",
      "metadata": {
        "id": "pL2cDgtueUKZ",
        "colab_type": "code",
        "colab": {}
      },
      "source": [
        "!python3 faceswap/faceswap.py extract -i \"drive/My Drive/ju40/faces/jjg_out.mp4\" -o \"drive/My Drive/ju40/faces_t_0_30/jjg\" -l 0.3 --serializer json -D mtcnn -A fan -nm none -bt 0.0 -sz 256 -min 0 -een 1 -si 0 -L INFO"
      ],
      "execution_count": 0,
      "outputs": []
    },
    {
      "cell_type": "markdown",
      "metadata": {
        "id": "6dQEhaGJ5fNF",
        "colab_type": "text"
      },
      "source": [
        "Executing extraction for Face B"
      ]
    },
    {
      "cell_type": "code",
      "metadata": {
        "id": "uJA9AUMQ3pf-",
        "colab_type": "code",
        "colab": {}
      },
      "source": [
        "!python3 faceswap/faceswap.py extract -i \"drive/My Drive/ju40/faces/apn_out.mp4\" -o \"drive/My Drive/ju40/faces_t_0_30/apn\" -l 0.3 --serializer json -D mtcnn -A fan -nm none -bt 0.0 -sz 256 -min 0 -een 1 -si 0 -L INFO"
      ],
      "execution_count": 0,
      "outputs": []
    },
    {
      "cell_type": "code",
      "metadata": {
        "id": "xFZ-3trph_XJ",
        "colab_type": "code",
        "colab": {}
      },
      "source": [
        "!ls"
      ],
      "execution_count": 0,
      "outputs": []
    },
    {
      "cell_type": "markdown",
      "metadata": {
        "id": "thBi4-Mr6BB4",
        "colab_type": "text"
      },
      "source": [
        "python.exe D:\\TensorFlow\\faceswap\\faceswap.py train -ala \"/content/drive/My Drive/ju40/faces/jjg_out_alignments.json\" -t original -s 100 -ss 25000 -bs 64 -it 1000000 -g 1 -ps 50 -L INFO\n",
        "\n",
        "\n",
        "!python3 faceswap/faceswap.py train -ala \"drive/My Drive/ju40/faces/jjg_out_alignments.json\" -A \"drive/My Drive/ju40/faces/ju\" -B \"drive/My Drive/ju40/faces/jjg\" -m \"drive/My Drive/Ju40/modelVillain\" -t villain -s 100 -ss 25000 -bs 16 -it 1000000 -g 1 -ps 50 -L INFO -w -nl"
      ]
    },
    {
      "cell_type": "markdown",
      "metadata": {
        "id": "PQTAFBUTHArY",
        "colab_type": "text"
      },
      "source": [
        "Training the model. You will require to start the process multiple time"
      ]
    },
    {
      "cell_type": "code",
      "metadata": {
        "id": "ADch9H9T63Yt",
        "colab_type": "code",
        "colab": {}
      },
      "source": [
        "!python3 faceswap/faceswap.py train -ala \"drive/My Drive/ju40/faces/jjg_out_alignments.json\" -A \"drive/My Drive/ju40/faces_t_0_30/jjg\" -B \"drive/My Drive/ju40/faces_t_0_30/apn\" -alb \"drive/My Drive/ju40/faces/apn_out_alignments.json\" -m \"drive/My Drive/Ju40/modelVillain_apn\" -t villain -s 100 -ss 25000 -bs 16 -it 1000000 -g 1 -ps 50 -L INFO -w -nl"
      ],
      "execution_count": 0,
      "outputs": []
    },
    {
      "cell_type": "markdown",
      "metadata": {
        "id": "pPg9yxQrG3TH",
        "colab_type": "text"
      },
      "source": [
        "Swaping face on the original movie"
      ]
    },
    {
      "cell_type": "code",
      "metadata": {
        "id": "Vog9AepjDxKu",
        "colab_type": "code",
        "colab": {}
      },
      "source": [
        "!python3 faceswap/faceswap.py convert -i \"drive/My Drive/ju40/faces/jjg_out.mp4\" -o \"drive/My Drive/ju40/faces/swapface\" -l 0.3 -m \"drive/My Drive/Ju40/modelVillain_apn\" -a \"drive/My Drive/ju40/faces_t_0_30/jjg\" -c avg-color -sc none -M predicted -w opencv -osc 100 -g 1 -L INFO"
      ],
      "execution_count": 0,
      "outputs": []
    },
    {
      "cell_type": "markdown",
      "metadata": {
        "id": "qLJ3CFZsLH4V",
        "colab_type": "text"
      },
      "source": [
        "Creating a movie from the individual pics generated a the previous step"
      ]
    },
    {
      "cell_type": "code",
      "metadata": {
        "id": "TIb0ByMcJxMo",
        "colab_type": "code",
        "colab": {}
      },
      "source": [
        "!python3 faceswap/tools.py effmpeg -a gen-vid -i \"drive/My Drive/ju40/faces/swapface\" -o \"drive/My Drive/ju40/movie_out.mp4\" -r \"drive/My Drive/ju40/faces/jjg_out.mp4\" -fps -1.0 -ef .png -s 00:00:00 -e 00:00:00 -d 00:00:00 -sc 1920x1080 -L INFO"
      ],
      "execution_count": 0,
      "outputs": []
    }
  ]
}